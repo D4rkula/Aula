{
  "nbformat": 4,
  "nbformat_minor": 0,
  "metadata": {
    "colab": {
      "provenance": [],
      "authorship_tag": "ABX9TyPW4jpUBmIra1F71/9kLUGw",
      "include_colab_link": true
    },
    "kernelspec": {
      "name": "python3",
      "display_name": "Python 3"
    },
    "language_info": {
      "name": "python"
    }
  },
  "cells": [
    {
      "cell_type": "markdown",
      "metadata": {
        "id": "view-in-github",
        "colab_type": "text"
      },
      "source": [
        "<a href=\"https://colab.research.google.com/github/D4rkula/Aula/blob/main/Aula_2703.ipynb\" target=\"_parent\"><img src=\"https://colab.research.google.com/assets/colab-badge.svg\" alt=\"Open In Colab\"/></a>"
      ]
    },
    {
      "cell_type": "code",
      "execution_count": 1,
      "metadata": {
        "colab": {
          "base_uri": "https://localhost:8080/"
        },
        "id": "m5htyb7qAAr2",
        "outputId": "99daa97a-9b60-45bb-fe9f-f8125f4ee518"
      },
      "outputs": [
        {
          "output_type": "stream",
          "name": "stdout",
          "text": [
            "Meu nome aqui\n"
          ]
        }
      ],
      "source": [
        "print('Meu nome aqui')"
      ]
    },
    {
      "cell_type": "code",
      "source": [
        "ano = 2023\n",
        "print(ano)"
      ],
      "metadata": {
        "colab": {
          "base_uri": "https://localhost:8080/"
        },
        "id": "XGYq9OlfCHJn",
        "outputId": "3c81cf1c-6c16-41ed-cae7-375389629abd"
      },
      "execution_count": 2,
      "outputs": [
        {
          "output_type": "stream",
          "name": "stdout",
          "text": [
            "2023\n"
          ]
        }
      ]
    },
    {
      "cell_type": "code",
      "source": [
        "frutas = ['jaca', 'manga', 'morango', 'pinha', 'goiaba']"
      ],
      "metadata": {
        "id": "PsfeKnfyEcPX"
      },
      "execution_count": 6,
      "outputs": []
    },
    {
      "cell_type": "code",
      "source": [
        "for i in frutas:\n",
        "  print(i)"
      ],
      "metadata": {
        "colab": {
          "base_uri": "https://localhost:8080/"
        },
        "id": "GadtKc0lEnpH",
        "outputId": "6d374ba1-3171-409b-8164-2fa93d92e0e5"
      },
      "execution_count": 7,
      "outputs": [
        {
          "output_type": "stream",
          "name": "stdout",
          "text": [
            "jaca\n",
            "manga\n",
            "morango\n",
            "pinha\n",
            "goiaba\n"
          ]
        }
      ]
    },
    {
      "cell_type": "code",
      "source": [
        "for i in frutas:\n",
        "  if(i == 'morango'):\n",
        "    print(i)"
      ],
      "metadata": {
        "colab": {
          "base_uri": "https://localhost:8080/"
        },
        "id": "qOdiUblgGKur",
        "outputId": "bfc1e848-b95a-4059-c300-a51671ec7b3d"
      },
      "execution_count": 8,
      "outputs": [
        {
          "output_type": "stream",
          "name": "stdout",
          "text": [
            "morango\n"
          ]
        }
      ]
    },
    {
      "cell_type": "code",
      "source": [
        "fruta = input('Insira uma fruta: ')\n",
        "frutas.append(fruta)\n",
        "frutas"
      ],
      "metadata": {
        "colab": {
          "base_uri": "https://localhost:8080/"
        },
        "id": "6wDXpl7bHj-f",
        "outputId": "490e9914-bade-4f29-da94-7a6af8c3fdf4"
      },
      "execution_count": 12,
      "outputs": [
        {
          "name": "stdout",
          "output_type": "stream",
          "text": [
            "Insira uma fruta: caju\n"
          ]
        },
        {
          "output_type": "execute_result",
          "data": {
            "text/plain": [
              "['jaca',\n",
              " 'manga',\n",
              " 'morango',\n",
              " 'pinha',\n",
              " 'goiaba',\n",
              " 'limão',\n",
              " 'tomate',\n",
              " 'graviola',\n",
              " 'caju']"
            ]
          },
          "metadata": {},
          "execution_count": 12
        }
      ]
    },
    {
      "cell_type": "code",
      "source": [
        "notas = [8, 9, 3, 4, 7, 10, 3, 6, 7]"
      ],
      "metadata": {
        "id": "HTY6ZbKRIZGv"
      },
      "execution_count": 13,
      "outputs": []
    },
    {
      "cell_type": "code",
      "source": [
        "for nota in notas:\n",
        "  if(nota >= 7):\n",
        "    print(nota)"
      ],
      "metadata": {
        "colab": {
          "base_uri": "https://localhost:8080/"
        },
        "id": "2pyJiIblIsGA",
        "outputId": "ffd99d96-c01f-46f8-cd16-8a10f314c318"
      },
      "execution_count": 14,
      "outputs": [
        {
          "output_type": "stream",
          "name": "stdout",
          "text": [
            "8\n",
            "9\n",
            "7\n",
            "10\n",
            "7\n"
          ]
        }
      ]
    },
    {
      "cell_type": "code",
      "source": [
        "ap = 0\n",
        "re = 0\n",
        "for nota in notas:\n",
        "  if(nota >= 7):\n",
        "    ap += 1\n",
        "  else:\n",
        "    re += 1\n",
        "print('Aprovados:', ap)\n",
        "print('Reprovados:', re)"
      ],
      "metadata": {
        "colab": {
          "base_uri": "https://localhost:8080/"
        },
        "id": "q7EImigqJQ8y",
        "outputId": "07276a71-f7e5-4c27-ddfc-ed6356a3a377"
      },
      "execution_count": 16,
      "outputs": [
        {
          "output_type": "stream",
          "name": "stdout",
          "text": [
            "Aprovados: 5\n",
            "Reprovados: 4\n"
          ]
        }
      ]
    },
    {
      "cell_type": "code",
      "source": [
        "cont = 1\n",
        "numeros = []\n",
        "\n",
        "while (cont <= 10):\n",
        "  numeros.append(cont)\n",
        "  cont += 1\n",
        "\n",
        "numeros"
      ],
      "metadata": {
        "colab": {
          "base_uri": "https://localhost:8080/"
        },
        "id": "nsc9hzrERd-X",
        "outputId": "d0c20585-8573-466f-bf3c-c473e4729a64"
      },
      "execution_count": 17,
      "outputs": [
        {
          "output_type": "execute_result",
          "data": {
            "text/plain": [
              "[1, 2, 3, 4, 5, 6, 7, 8, 9, 10]"
            ]
          },
          "metadata": {},
          "execution_count": 17
        }
      ]
    },
    {
      "cell_type": "code",
      "source": [
        "cont = 1\n",
        "numeros = []\n",
        "tamanho = int(input('Digite aí o tamanho da lista: '))\n",
        "\n",
        "while (cont <= tamanho):\n",
        "  numeros.append(cont)\n",
        "  cont += 1\n",
        "\n",
        "numeros"
      ],
      "metadata": {
        "colab": {
          "base_uri": "https://localhost:8080/"
        },
        "id": "Gv7zPA1tSgfU",
        "outputId": "eb1a13a1-1b27-4f36-dc70-eb6abdc08f84"
      },
      "execution_count": 22,
      "outputs": [
        {
          "name": "stdout",
          "output_type": "stream",
          "text": [
            "Digite aí o tamanho da lista: 15\n"
          ]
        },
        {
          "output_type": "execute_result",
          "data": {
            "text/plain": [
              "[1, 2, 3, 4, 5, 6, 7, 8, 9, 10, 11, 12, 13, 14, 15]"
            ]
          },
          "metadata": {},
          "execution_count": 22
        }
      ]
    },
    {
      "cell_type": "code",
      "source": [
        "cidades = []\n",
        "nome = input('Insira o nome de uma cidade: ')\n",
        "while(nome != '0'):\n",
        "  cidades.append(nome)\n",
        "  nome = input('Insira o nome de uma cidade: ')\n",
        "cidades"
      ],
      "metadata": {
        "colab": {
          "base_uri": "https://localhost:8080/"
        },
        "id": "8vXiGfG2U7KH",
        "outputId": "a87a0493-4612-44a4-edae-310c40b28316"
      },
      "execution_count": 27,
      "outputs": [
        {
          "name": "stdout",
          "output_type": "stream",
          "text": [
            "Insira o nome de uma cidade: fas\n",
            "Insira o nome de uma cidade: gfsdhs\n",
            "Insira o nome de uma cidade: ertweye\n",
            "Insira o nome de uma cidade: qeyeq\n",
            "Insira o nome de uma cidade: yweryreu\n",
            "Insira o nome de uma cidade: 0\n"
          ]
        },
        {
          "output_type": "execute_result",
          "data": {
            "text/plain": [
              "['fas', 'gfsdhs', 'ertweye', 'qeyeq', 'yweryreu']"
            ]
          },
          "metadata": {},
          "execution_count": 27
        }
      ]
    },
    {
      "cell_type": "code",
      "source": [
        "num = int(input('Insira um número: '))\n",
        "while(num >= 0):\n",
        "  if(num % 2 == 0):\n",
        "    print('é par')\n",
        "    num = int(input('Insira um número: '))\n",
        "  else:\n",
        "    print('é ímpar')\n",
        "    num = int(input('Insira um número: '))\n",
        "print('Acabou')"
      ],
      "metadata": {
        "colab": {
          "base_uri": "https://localhost:8080/"
        },
        "id": "4-6qcsHlX6vi",
        "outputId": "5ff85d33-27e4-4c9f-ecd0-d346a644c5f4"
      },
      "execution_count": 37,
      "outputs": [
        {
          "output_type": "stream",
          "name": "stdout",
          "text": [
            "Insira um número: 2\n",
            "é par\n",
            "Insira um número: 5\n",
            "é ímpar\n",
            "Insira um número: -9\n",
            "Acabou\n"
          ]
        }
      ]
    }
  ]
}