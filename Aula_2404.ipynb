{
  "nbformat": 4,
  "nbformat_minor": 0,
  "metadata": {
    "colab": {
      "provenance": [],
      "authorship_tag": "ABX9TyPaOvcejPOi/BenFsOovefp",
      "include_colab_link": true
    },
    "kernelspec": {
      "name": "python3",
      "display_name": "Python 3"
    },
    "language_info": {
      "name": "python"
    }
  },
  "cells": [
    {
      "cell_type": "markdown",
      "metadata": {
        "id": "view-in-github",
        "colab_type": "text"
      },
      "source": [
        "<a href=\"https://colab.research.google.com/github/D4rkula/Aula-Prog/blob/main/Aula_2404.ipynb\" target=\"_parent\"><img src=\"https://colab.research.google.com/assets/colab-badge.svg\" alt=\"Open In Colab\"/></a>"
      ]
    },
    {
      "cell_type": "code",
      "source": [
        "#1 - retornar strings que começam com A e quantidade"
      ],
      "metadata": {
        "id": "4ASSQzEslCZ-"
      },
      "execution_count": 182,
      "outputs": []
    },
    {
      "cell_type": "code",
      "source": [
        "lista = []"
      ],
      "metadata": {
        "id": "GGq-a3kgRNo3"
      },
      "execution_count": 115,
      "outputs": []
    },
    {
      "cell_type": "code",
      "source": [
        "lista.append(input('Digite um item: '))\n",
        "lista"
      ],
      "metadata": {
        "colab": {
          "base_uri": "https://localhost:8080/"
        },
        "id": "Pe2zaMdMMYNw",
        "outputId": "dfd54360-884c-40ae-f8aa-777e0856c225"
      },
      "execution_count": 120,
      "outputs": [
        {
          "name": "stdout",
          "output_type": "stream",
          "text": [
            "Digite um item: jaca\n"
          ]
        },
        {
          "output_type": "execute_result",
          "data": {
            "text/plain": [
              "['amora', 'caju', 'ameixa', 'jaca']"
            ]
          },
          "metadata": {},
          "execution_count": 120
        }
      ]
    },
    {
      "cell_type": "code",
      "source": [
        "quantidade = 0\n",
        "for l in lista:\n",
        "  if l[0] == 'a':\n",
        "    quantidade += 1\n",
        "    print(l)\n",
        "print(quantidade)\n",
        "quantidade = 0"
      ],
      "metadata": {
        "colab": {
          "base_uri": "https://localhost:8080/"
        },
        "id": "Dd6d7rnhR4Un",
        "outputId": "286c493a-0dd5-478d-cc91-b899d2269d2c"
      },
      "execution_count": 181,
      "outputs": [
        {
          "output_type": "stream",
          "name": "stdout",
          "text": [
            "amora\n",
            "ameixa\n",
            "2\n"
          ]
        }
      ]
    },
    {
      "cell_type": "code",
      "source": [
        "#2 - retornar produto de numeros numa lista"
      ],
      "metadata": {
        "id": "mQ_6_8lVlISl"
      },
      "execution_count": 183,
      "outputs": []
    },
    {
      "cell_type": "code",
      "source": [
        "def produto(numeros):\n",
        "  resultado = 1\n",
        "  for n in numeros:\n",
        "    resultado *= n\n",
        "  return resultado\n",
        "\n",
        "numerozinhos = [2, 4, 8, 16, 32]\n",
        "produto(numerozinhos)"
      ],
      "metadata": {
        "colab": {
          "base_uri": "https://localhost:8080/"
        },
        "id": "fMOnZASFlML3",
        "outputId": "61f4f5b4-28ab-4b08-c68c-3579492c451e"
      },
      "execution_count": 129,
      "outputs": [
        {
          "output_type": "execute_result",
          "data": {
            "text/plain": [
              "32768"
            ]
          },
          "metadata": {},
          "execution_count": 129
        }
      ]
    },
    {
      "cell_type": "code",
      "source": [
        "#3 - retornar soma dos numeros pares de uma lista"
      ],
      "metadata": {
        "id": "XVXlhreDlp4e"
      },
      "execution_count": 184,
      "outputs": []
    },
    {
      "cell_type": "code",
      "source": [
        "def soma(lista):\n",
        "  total = 0\n",
        "  for l in lista:\n",
        "    if l % 2 == 0:\n",
        "      total += l\n",
        "  return total\n",
        "\n",
        "soma(numerozinhos)"
      ],
      "metadata": {
        "colab": {
          "base_uri": "https://localhost:8080/"
        },
        "id": "2rbBB7ZilO1N",
        "outputId": "af296886-6d05-4ea4-9408-864a70f83a25"
      },
      "execution_count": 130,
      "outputs": [
        {
          "output_type": "execute_result",
          "data": {
            "text/plain": [
              "62"
            ]
          },
          "metadata": {},
          "execution_count": 130
        }
      ]
    },
    {
      "cell_type": "code",
      "source": [
        "#4 - retornar o maior nome de uma lista"
      ],
      "metadata": {
        "id": "S5C_BxC_n31Y"
      },
      "execution_count": 185,
      "outputs": []
    },
    {
      "cell_type": "code",
      "source": [
        "nomes = []"
      ],
      "metadata": {
        "id": "Ks8jW1rblSCu"
      },
      "execution_count": 163,
      "outputs": []
    },
    {
      "cell_type": "code",
      "source": [
        "nomes.append(input('Digite um nome: '))\n",
        "nomes"
      ],
      "metadata": {
        "colab": {
          "base_uri": "https://localhost:8080/"
        },
        "id": "29Tj-wd2lUpX",
        "outputId": "55edcb44-51f2-4963-ffc1-987b34228160"
      },
      "execution_count": 168,
      "outputs": [
        {
          "name": "stdout",
          "output_type": "stream",
          "text": [
            "Digite um nome: amaralin\n"
          ]
        },
        {
          "output_type": "execute_result",
          "data": {
            "text/plain": [
              "['zeca', 'anastacio', 'josefina', 'ivo', 'amaralin']"
            ]
          },
          "metadata": {},
          "execution_count": 168
        }
      ]
    },
    {
      "cell_type": "code",
      "source": [
        "def maiorNome(nomes):\n",
        "  maior = ''\n",
        "  for n in nomes:\n",
        "    if(len(n) >= len(maior)):\n",
        "      maior = n\n",
        "  return maior\n",
        "\n",
        "maiorNome(nomes)"
      ],
      "metadata": {
        "colab": {
          "base_uri": "https://localhost:8080/",
          "height": 35
        },
        "id": "ww2VgTGelgGY",
        "outputId": "7e4c6281-bbce-4927-a7b3-ab5b5c36b2d0"
      },
      "execution_count": 169,
      "outputs": [
        {
          "output_type": "execute_result",
          "data": {
            "text/plain": [
              "'anastacio'"
            ],
            "application/vnd.google.colaboratory.intrinsic+json": {
              "type": "string"
            }
          },
          "metadata": {},
          "execution_count": 169
        }
      ]
    },
    {
      "cell_type": "code",
      "source": [
        "#5 - cálculo de fatorial"
      ],
      "metadata": {
        "id": "0zfrjqZpqtnk"
      },
      "execution_count": 186,
      "outputs": []
    },
    {
      "cell_type": "code",
      "source": [
        "def fatorial(n):\n",
        "  if(n <= 1):\n",
        "    return 1\n",
        "  else:\n",
        "    return n * fatorial(n-1)"
      ],
      "metadata": {
        "id": "_flGIma1rJhG"
      },
      "execution_count": 194,
      "outputs": []
    },
    {
      "cell_type": "code",
      "source": [
        "fatorial(5)"
      ],
      "metadata": {
        "colab": {
          "base_uri": "https://localhost:8080/"
        },
        "id": "S1ZxrCbzrwI-",
        "outputId": "11dff917-437a-44f0-d4f2-1199403cdfec"
      },
      "execution_count": 195,
      "outputs": [
        {
          "output_type": "execute_result",
          "data": {
            "text/plain": [
              "120"
            ]
          },
          "metadata": {},
          "execution_count": 195
        }
      ]
    }
  ]
}