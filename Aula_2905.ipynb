{
  "nbformat": 4,
  "nbformat_minor": 0,
  "metadata": {
    "colab": {
      "provenance": [],
      "authorship_tag": "ABX9TyObtxY4DOYuQe30itUbPC9p",
      "include_colab_link": true
    },
    "kernelspec": {
      "name": "python3",
      "display_name": "Python 3"
    },
    "language_info": {
      "name": "python"
    }
  },
  "cells": [
    {
      "cell_type": "markdown",
      "metadata": {
        "id": "view-in-github",
        "colab_type": "text"
      },
      "source": [
        "<a href=\"https://colab.research.google.com/github/D4rkula/Aula-Prog/blob/main/Aula_2905.ipynb\" target=\"_parent\"><img src=\"https://colab.research.google.com/assets/colab-badge.svg\" alt=\"Open In Colab\"/></a>"
      ]
    },
    {
      "cell_type": "code",
      "execution_count": 3,
      "metadata": {
        "colab": {
          "base_uri": "https://localhost:8080/"
        },
        "id": "gDwCRBZfcw4t",
        "outputId": "573870b3-f807-4de4-fd90-b929be9ad0ae"
      },
      "outputs": [
        {
          "output_type": "execute_result",
          "data": {
            "text/plain": [
              "{'Andre': 8.5,\n",
              " 'Ana': 7.0,\n",
              " 'Chico': 6.5,\n",
              " 'Nubia': 10,\n",
              " 'Luana': 8,\n",
              " 'Julio': 5.5,\n",
              " 'Aristides': 6.0,\n",
              " 'Sebastiana': 9.5,\n",
              " 'Camila': 10,\n",
              " 'João': 6}"
            ]
          },
          "metadata": {},
          "execution_count": 3
        }
      ],
      "source": [
        "provaA = {'Andre' : 8.5, 'Ana' : 7.0, 'Chico' : 6.5, 'Nubia' : 10, 'Luana' : 8}\n",
        "provaB = {'Julio' : 5.5, 'Aristides' : 6.0, 'Sebastiana' : 9.5, 'Camila' : 10, 'João' : 6}\n",
        "\n",
        "resultado_final = {}\n",
        "resultado_final.update(provaA)\n",
        "resultado_final.update(provaB)\n",
        "\n",
        "resultado_final"
      ]
    },
    {
      "cell_type": "code",
      "source": [
        "sorted(resultado_final, key = resultado_final.get, reverse = True)"
      ],
      "metadata": {
        "colab": {
          "base_uri": "https://localhost:8080/"
        },
        "id": "XDWmxYM_f21S",
        "outputId": "152b43b8-55d7-4e4f-ae47-066bc430bd0a"
      },
      "execution_count": 9,
      "outputs": [
        {
          "output_type": "execute_result",
          "data": {
            "text/plain": [
              "['Nubia',\n",
              " 'Camila',\n",
              " 'Sebastiana',\n",
              " 'Andre',\n",
              " 'Luana',\n",
              " 'Ana',\n",
              " 'Chico',\n",
              " 'Aristides',\n",
              " 'João',\n",
              " 'Julio']"
            ]
          },
          "metadata": {},
          "execution_count": 9
        }
      ]
    },
    {
      "cell_type": "code",
      "source": [
        "for nome, nota in resultado_final.items():\n",
        "  print(f'{nome} : {nota}')"
      ],
      "metadata": {
        "colab": {
          "base_uri": "https://localhost:8080/"
        },
        "id": "iinpxoC4gno7",
        "outputId": "9d1028ad-bda6-4d1a-aa48-9d5fe72cf60a"
      },
      "execution_count": 10,
      "outputs": [
        {
          "output_type": "stream",
          "name": "stdout",
          "text": [
            "Andre : 8.5\n",
            "Ana : 7.0\n",
            "Chico : 6.5\n",
            "Nubia : 10\n",
            "Luana : 8\n",
            "Julio : 5.5\n",
            "Aristides : 6.0\n",
            "Sebastiana : 9.5\n",
            "Camila : 10\n",
            "João : 6\n"
          ]
        }
      ]
    },
    {
      "cell_type": "code",
      "source": [
        "candidatos = list(resultado_final.keys())\n",
        "\n",
        "candidatos"
      ],
      "metadata": {
        "colab": {
          "base_uri": "https://localhost:8080/"
        },
        "id": "jDB_htouhkbR",
        "outputId": "80f00cb3-b73a-46ef-8a93-e50739eb494d"
      },
      "execution_count": 13,
      "outputs": [
        {
          "output_type": "execute_result",
          "data": {
            "text/plain": [
              "['Andre',\n",
              " 'Ana',\n",
              " 'Chico',\n",
              " 'Nubia',\n",
              " 'Luana',\n",
              " 'Julio',\n",
              " 'Aristides',\n",
              " 'Sebastiana',\n",
              " 'Camila',\n",
              " 'João']"
            ]
          },
          "metadata": {},
          "execution_count": 13
        }
      ]
    },
    {
      "cell_type": "code",
      "source": [
        "notas = list(resultado_final.values())\n",
        "\n",
        "notas"
      ],
      "metadata": {
        "colab": {
          "base_uri": "https://localhost:8080/"
        },
        "id": "7nKXkz1XiYex",
        "outputId": "ebf83212-e041-43c9-c9cf-4c7d8335272d"
      },
      "execution_count": 14,
      "outputs": [
        {
          "output_type": "execute_result",
          "data": {
            "text/plain": [
              "[8.5, 7.0, 6.5, 10, 8, 5.5, 6.0, 9.5, 10, 6]"
            ]
          },
          "metadata": {},
          "execution_count": 14
        }
      ]
    },
    {
      "cell_type": "code",
      "source": [
        "def notas(nome):\n",
        "  if nome in resultado_final:\n",
        "    return resultado_final[nome]\n",
        "  else:\n",
        "    return 'Candidato Inexistente'"
      ],
      "metadata": {
        "id": "8yphkLd_i9j4"
      },
      "execution_count": 49,
      "outputs": []
    },
    {
      "cell_type": "code",
      "source": [
        "cand = input('Digite o nome: ')\n",
        "nota = notas(cand)\n",
        "print (nota)"
      ],
      "metadata": {
        "colab": {
          "base_uri": "https://localhost:8080/"
        },
        "id": "vaJtIpxnpIio",
        "outputId": "279e66e5-d49e-4e76-ce17-4537bbd98241"
      },
      "execution_count": 53,
      "outputs": [
        {
          "output_type": "stream",
          "name": "stdout",
          "text": [
            "Digite o nome: Camila\n",
            "10\n"
          ]
        }
      ]
    }
  ]
}