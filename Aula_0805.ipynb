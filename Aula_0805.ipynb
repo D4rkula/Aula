{
  "nbformat": 4,
  "nbformat_minor": 0,
  "metadata": {
    "colab": {
      "provenance": [],
      "authorship_tag": "ABX9TyM3ous9M4JT2o3yC9unjpok",
      "include_colab_link": true
    },
    "kernelspec": {
      "name": "python3",
      "display_name": "Python 3"
    },
    "language_info": {
      "name": "python"
    }
  },
  "cells": [
    {
      "cell_type": "markdown",
      "metadata": {
        "id": "view-in-github",
        "colab_type": "text"
      },
      "source": [
        "<a href=\"https://colab.research.google.com/github/D4rkula/Aula-Prog/blob/main/0805.ipynb\" target=\"_parent\"><img src=\"https://colab.research.google.com/assets/colab-badge.svg\" alt=\"Open In Colab\"/></a>"
      ]
    },
    {
      "cell_type": "code",
      "execution_count": null,
      "metadata": {
        "id": "SGsqfrgrb6Sg"
      },
      "outputs": [],
      "source": [
        "lista_vazia = []\n",
        "\n",
        "lista_com_coisas = [2, 4, 3, 'quatro', 'cinco']"
      ]
    },
    {
      "cell_type": "code",
      "source": [
        "lista = [1, 2, 3, 'quatro', 'cinco']"
      ],
      "metadata": {
        "id": "DIdbGH0bcTEy"
      },
      "execution_count": null,
      "outputs": []
    },
    {
      "cell_type": "code",
      "source": [
        "nomes = ['ze', 'tiao', 'joaquim']\n",
        "nomes.append('julia')\n",
        "\n",
        "outrosNomes = ['Ana', 'zabe', 'maria']\n",
        "nomes.extend(outrosNomes)\n",
        "\n",
        "nomes"
      ],
      "metadata": {
        "colab": {
          "base_uri": "https://localhost:8080/"
        },
        "id": "LM9iDGQ_ccmA",
        "outputId": "80535950-810c-4022-d5df-c01fe49d0110"
      },
      "execution_count": null,
      "outputs": [
        {
          "output_type": "execute_result",
          "data": {
            "text/plain": [
              "['ze', 'tiao', 'joaquim', 'julia', 'Ana', 'zabe', 'maria']"
            ]
          },
          "metadata": {},
          "execution_count": 4
        }
      ]
    },
    {
      "cell_type": "code",
      "source": [
        "nums = [6, 5, 2, 1, 7]\n",
        "#saber o dobro de cada número\n",
        "def dobro(lista):\n",
        "  dobrolista = []\n",
        "  for n in lista:\n",
        "    dobrolista.append(n*2)\n",
        "  return dobrolista\n",
        "\n",
        "dobro(nums)"
      ],
      "metadata": {
        "colab": {
          "base_uri": "https://localhost:8080/"
        },
        "id": "83ssEWKkdIZG",
        "outputId": "b333ca4a-b6ca-47c0-a1e4-561ff90473ef"
      },
      "execution_count": 32,
      "outputs": [
        {
          "output_type": "execute_result",
          "data": {
            "text/plain": [
              "[12, 10, 4, 2, 14]"
            ]
          },
          "metadata": {},
          "execution_count": 32
        }
      ]
    },
    {
      "cell_type": "code",
      "source": [
        "#maneira alternativa\n",
        "newList = list(map(lambda x: x*2, nums))\n",
        "\n",
        "newList"
      ],
      "metadata": {
        "colab": {
          "base_uri": "https://localhost:8080/"
        },
        "id": "BN14_rFinphA",
        "outputId": "2795f121-85a2-41c2-bf61-cb1ba9f8e5df"
      },
      "execution_count": 34,
      "outputs": [
        {
          "output_type": "execute_result",
          "data": {
            "text/plain": [
              "[12, 10, 4, 2, 14]"
            ]
          },
          "metadata": {},
          "execution_count": 34
        }
      ]
    },
    {
      "cell_type": "code",
      "source": [
        "#saber o quadrado de cada número\n",
        "def quad(lista):\n",
        "  quadlista = []\n",
        "  for n in lista:\n",
        "    quadlista.append(n * n)\n",
        "  return quadlista\n",
        "\n",
        "quad(nums)"
      ],
      "metadata": {
        "colab": {
          "base_uri": "https://localhost:8080/"
        },
        "id": "iEqzVA7nn8vo",
        "outputId": "ee0cdddc-cac2-4bc0-fa00-f0fa99e072c4"
      },
      "execution_count": 33,
      "outputs": [
        {
          "output_type": "execute_result",
          "data": {
            "text/plain": [
              "[36, 25, 4, 1, 49]"
            ]
          },
          "metadata": {},
          "execution_count": 33
        }
      ]
    },
    {
      "cell_type": "code",
      "source": [
        "#maneira alternativa\n",
        "newList = list(map(lambda x: x*x, nums))\n",
        "\n",
        "newList"
      ],
      "metadata": {
        "colab": {
          "base_uri": "https://localhost:8080/"
        },
        "id": "8lVBqwqcwKys",
        "outputId": "3e95f544-2afe-478c-e3de-39fc54168936"
      },
      "execution_count": 35,
      "outputs": [
        {
          "output_type": "execute_result",
          "data": {
            "text/plain": [
              "[36, 25, 4, 1, 49]"
            ]
          },
          "metadata": {},
          "execution_count": 35
        }
      ]
    },
    {
      "cell_type": "code",
      "source": [
        "frutas = ['banana', 'pera', 'uva', 'cajá', 'manga']"
      ],
      "metadata": {
        "id": "YL1AFCKIq0_W"
      },
      "execution_count": 8,
      "outputs": []
    },
    {
      "cell_type": "code",
      "source": [
        "#saber o comprimento de cada palavra\n",
        "lenFrutas = list(map(lambda x : len(x), frutas))\n",
        "lenFrutas"
      ],
      "metadata": {
        "colab": {
          "base_uri": "https://localhost:8080/"
        },
        "id": "GX_egjZHrkwe",
        "outputId": "b3687c69-0da5-4d8a-b68f-757140f8751c"
      },
      "execution_count": 31,
      "outputs": [
        {
          "output_type": "execute_result",
          "data": {
            "text/plain": [
              "[6, 4, 3, 4, 5]"
            ]
          },
          "metadata": {},
          "execution_count": 31
        }
      ]
    },
    {
      "cell_type": "code",
      "source": [
        "preços = [9.99, 2.50, 3.45, 7.00, 10.99]"
      ],
      "metadata": {
        "id": "IxZKvYVytoC_"
      },
      "execution_count": 22,
      "outputs": []
    },
    {
      "cell_type": "code",
      "source": [
        "#add 2 a cada preço\n",
        "newPreços = list(map(lambda x : x+2, preços))\n",
        "newPreços"
      ],
      "metadata": {
        "colab": {
          "base_uri": "https://localhost:8080/"
        },
        "id": "RjORrvkjuBy4",
        "outputId": "58c35a79-c6b3-4193-8fef-36626f12cd8d"
      },
      "execution_count": 30,
      "outputs": [
        {
          "output_type": "execute_result",
          "data": {
            "text/plain": [
              "[11.99, 4.5, 5.45, 9.0, 12.99]"
            ]
          },
          "metadata": {},
          "execution_count": 30
        }
      ]
    },
    {
      "cell_type": "code",
      "source": [
        "notas = [6, 7, 3.5, 9, 6.5]\n",
        "#quero apenas os aprovados\n",
        "aprovados = list(filter(lambda x : x >= 7, notas))\n",
        "aprovados"
      ],
      "metadata": {
        "colab": {
          "base_uri": "https://localhost:8080/"
        },
        "id": "nN3iVhJ4vgQZ",
        "outputId": "c294948f-1a07-468f-d8ff-edd77121643d"
      },
      "execution_count": 37,
      "outputs": [
        {
          "output_type": "execute_result",
          "data": {
            "text/plain": [
              "[7, 9]"
            ]
          },
          "metadata": {},
          "execution_count": 37
        }
      ]
    }
  ]
}
