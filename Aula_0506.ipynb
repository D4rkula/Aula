{
  "nbformat": 4,
  "nbformat_minor": 0,
  "metadata": {
    "colab": {
      "provenance": [],
      "authorship_tag": "ABX9TyNBxFKISJ3wmdtBzYjAKJDj",
      "include_colab_link": true
    },
    "kernelspec": {
      "name": "python3",
      "display_name": "Python 3"
    },
    "language_info": {
      "name": "python"
    }
  },
  "cells": [
    {
      "cell_type": "markdown",
      "metadata": {
        "id": "view-in-github",
        "colab_type": "text"
      },
      "source": [
        "<a href=\"https://colab.research.google.com/github/D4rkula/Aula-Prog/blob/main/Aula_0506.ipynb\" target=\"_parent\"><img src=\"https://colab.research.google.com/assets/colab-badge.svg\" alt=\"Open In Colab\"/></a>"
      ]
    },
    {
      "cell_type": "code",
      "source": [
        "class Cliente:\n",
        "  def __init__(self, nome, idade, sexo):\n",
        "    self.nome = nome\n",
        "    self.idade = idade\n",
        "    self.sexo = sexo\n",
        "  def detalhe(self):\n",
        "    print(f'nome: {self.nome}, idade: {self.idade}, sexo: {self.sexo}')"
      ],
      "metadata": {
        "id": "bUO5I4w2mOL4"
      },
      "execution_count": 18,
      "outputs": []
    },
    {
      "cell_type": "code",
      "source": [
        "cli = Cliente('André', 24, 'Masculino')\n",
        "cli.detalhe()"
      ],
      "metadata": {
        "colab": {
          "base_uri": "https://localhost:8080/"
        },
        "id": "mg6g7gYznmJp",
        "outputId": "11cc6e73-358d-4cb2-cc28-8277334b6dd2"
      },
      "execution_count": 19,
      "outputs": [
        {
          "output_type": "stream",
          "name": "stdout",
          "text": [
            "nome: André, idade: 24, sexo: Masculino\n"
          ]
        }
      ]
    },
    {
      "cell_type": "code",
      "source": [
        "class Conta:\n",
        "  def __init__(self, titular, saldo):\n",
        "    self.titular = titular\n",
        "    self.saldo = saldo\n",
        "  def exibeSaldo(self):\n",
        "    print(f'titular: {self.titular}, saldo: R${self.saldo}')"
      ],
      "metadata": {
        "id": "T_1FjhwVo6k_"
      },
      "execution_count": 22,
      "outputs": []
    },
    {
      "cell_type": "code",
      "source": [
        "co = Conta('Josuke Higashikata', 1465.54)\n",
        "co.exibeSaldo()"
      ],
      "metadata": {
        "colab": {
          "base_uri": "https://localhost:8080/"
        },
        "id": "EzCW1WNkpp6K",
        "outputId": "f0101635-f7f5-412a-b326-a523b7f93215"
      },
      "execution_count": 24,
      "outputs": [
        {
          "output_type": "stream",
          "name": "stdout",
          "text": [
            "titular: Josuke Higashikata, saldo: R$1465.54\n"
          ]
        }
      ]
    },
    {
      "cell_type": "code",
      "source": [
        "class Animal:\n",
        "  def __init__(self, name):\n",
        "    self.name = name\n",
        "  def emitirSom(self):\n",
        "    pass"
      ],
      "metadata": {
        "id": "c9CC80OwtVYi"
      },
      "execution_count": 25,
      "outputs": []
    },
    {
      "cell_type": "code",
      "source": [
        "class Ovelha(Animal):\n",
        "  def emitirSom(self):\n",
        "    print('Bééééé')\n",
        "\n",
        "class Cachorro(Animal):\n",
        "  def emitirSom(self):\n",
        "    print('Au au')\n",
        "\n",
        "class Gato(Animal):\n",
        "  def emitirSom(self):\n",
        "    print('Miau')"
      ],
      "metadata": {
        "id": "caWqrOsHtmJb"
      },
      "execution_count": 27,
      "outputs": []
    },
    {
      "cell_type": "code",
      "source": [
        "ovelhinha = Ovelha('Ana')\n",
        "doguinho = Cachorro('Doug')\n",
        "gatio = Gato('Bolinha')\n",
        "\n",
        "ovelhinha.emitirSom()\n",
        "doguinho.emitirSom()\n",
        "gatio.emitirSom()"
      ],
      "metadata": {
        "colab": {
          "base_uri": "https://localhost:8080/"
        },
        "id": "L5lNk7Siuk91",
        "outputId": "e67c6eb7-cd54-4a0c-ed8f-811a697ce4b9"
      },
      "execution_count": 30,
      "outputs": [
        {
          "output_type": "stream",
          "name": "stdout",
          "text": [
            "Bééééé\n",
            "Au au\n",
            "Miau\n"
          ]
        }
      ]
    }
  ]
}