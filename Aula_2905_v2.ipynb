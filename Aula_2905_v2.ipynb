{
  "nbformat": 4,
  "nbformat_minor": 0,
  "metadata": {
    "colab": {
      "provenance": [],
      "authorship_tag": "ABX9TyMrCYn332ziE5aC8yhHPEmD",
      "include_colab_link": true
    },
    "kernelspec": {
      "name": "python3",
      "display_name": "Python 3"
    },
    "language_info": {
      "name": "python"
    }
  },
  "cells": [
    {
      "cell_type": "markdown",
      "metadata": {
        "id": "view-in-github",
        "colab_type": "text"
      },
      "source": [
        "<a href=\"https://colab.research.google.com/github/D4rkula/Aula-Prog/blob/main/Aula_2905_v2.ipynb\" target=\"_parent\"><img src=\"https://colab.research.google.com/assets/colab-badge.svg\" alt=\"Open In Colab\"/></a>"
      ]
    },
    {
      "cell_type": "code",
      "execution_count": 2,
      "metadata": {
        "id": "VDuoLxkywPND"
      },
      "outputs": [],
      "source": [
        "tarefas = {}"
      ]
    },
    {
      "cell_type": "code",
      "source": [
        "def lista(id, tarefa, status):\n",
        "  for id, tarefa, status in tarefas.items():\n",
        "    print(f'{id}, {tarefa}, {status}')"
      ],
      "metadata": {
        "id": "HaLOlzuYxIed"
      },
      "execution_count": 5,
      "outputs": []
    },
    {
      "cell_type": "code",
      "source": [
        "tarefa = input('Digite a tarefa: ')\n",
        "if tarefa in tarefas:\n",
        "  tarefas[tarefa]\n",
        "else:\n",
        "  'Tarefa não disponível'\n",
        "\n",
        "status = input('Pendente ou Concluído: ')\n",
        "if status == 'Pendente' or 'Concluído':\n",
        "  status\n",
        "else:\n",
        "  'Inválido'\n",
        "\n",
        "id = {}\n",
        "tudo = lista(id, tarefa, status)\n",
        "print (tudo)"
      ],
      "metadata": {
        "colab": {
          "base_uri": "https://localhost:8080/"
        },
        "id": "ns6S7oI3yk9C",
        "outputId": "669ed2e1-b3d1-469c-ef1f-d842b3507d73"
      },
      "execution_count": 9,
      "outputs": [
        {
          "output_type": "stream",
          "name": "stdout",
          "text": [
            "Digite a tarefa: cagatr\n",
            "Pendente ou Concluído: concluído\n",
            "None\n"
          ]
        }
      ]
    }
  ]
}